{
 "cells": [
  {
   "cell_type": "code",
   "execution_count": 2,
   "metadata": {},
   "outputs": [
    {
     "name": "stderr",
     "output_type": "stream",
     "text": [
      "2023-11-27 21:36:14,916 - INFO: Database already exists. Skipping creation.\n"
     ]
    },
    {
     "name": "stdout",
     "output_type": "stream",
     "text": [
      "No publications found for this author.\n"
     ]
    }
   ],
   "source": [
    "import sqlite3\n",
    "import csv\n",
    "import logging\n",
    "\n",
    "# Configure logging\n",
    "logging.basicConfig(level=logging.INFO, format='%(asctime)s - %(levelname)s: %(message)s')\n",
    "\n",
    "# Database and CSV file names\n",
    "db_name = 'publications.db'\n",
    "csv_file = 'Capstone/outfile.csv' \n",
    "\n",
    "def create_database(db_name, csv_file):\n",
    "    \"\"\"\n",
    "    Create a SQLite database and import data from a CSV file.\n",
    "    \"\"\"\n",
    "    conn = None\n",
    "    try:\n",
    "        # Connect to SQLite database\n",
    "        conn = sqlite3.connect(db_name)\n",
    "        cursor = conn.cursor()\n",
    "\n",
    "        # Check if the table already exists\n",
    "        cursor.execute(\"SELECT name FROM sqlite_master WHERE type='table' AND name='publications'\")\n",
    "        if cursor.fetchone() is None:\n",
    "            # Create table if it doesn't exist\n",
    "            cursor.execute('''CREATE TABLE publications\n",
    "                              (title TEXT, authors TEXT, publication_date TEXT, abstract TEXT)''')\n",
    "\n",
    "            # Read CSV file and import data\n",
    "            with open(csv_file, 'r', encoding='utf-8') as file:\n",
    "                dr = csv.DictReader(file)\n",
    "                to_db = [(i['Title'], i['Authors'], i['Publication Date'], i['Abstract']) for i in dr]\n",
    "\n",
    "            cursor.executemany(\"INSERT INTO publications (title, authors, publication_date, abstract) VALUES (?, ?, ?, ?);\", to_db)\n",
    "            conn.commit()\n",
    "            logging.info(\"Database created and data imported successfully.\")\n",
    "        else:\n",
    "            logging.info(\"Database already exists. Skipping creation.\")\n",
    "\n",
    "    except sqlite3.Error as e:\n",
    "        logging.error(f\"Database error: {e}\")\n",
    "    except Exception as e:\n",
    "        logging.error(f\"Error: {e}\")\n",
    "    finally:\n",
    "        if conn:\n",
    "            conn.close()\n",
    "\n",
    "def query_by_author(db_name, author_name):\n",
    "    \"\"\"\n",
    "    Query the database for publications by a specific author.\n",
    "    \"\"\"\n",
    "    conn = None\n",
    "    try:\n",
    "        # Connect to SQLite database\n",
    "        conn = sqlite3.connect(db_name)\n",
    "        cursor = conn.cursor()\n",
    "\n",
    "        # SQL query\n",
    "        query = \"SELECT title, publication_date FROM publications WHERE authors LIKE ?\"\n",
    "        cursor.execute(query, ('%'+author_name+'%',))\n",
    "\n",
    "        # Fetch and display results\n",
    "        rows = cursor.fetchall()\n",
    "        if rows:\n",
    "            for row in rows:\n",
    "                print(f\"Title: {row[0]}, Publication Date: {row[1]}\")\n",
    "        else:\n",
    "            print(\"No publications found for this author.\")\n",
    "            \n",
    "    except sqlite3.Error as e:\n",
    "        logging.error(f\"Database error: {e}\")\n",
    "    except Exception as e:\n",
    "        logging.error(f\"Error: {e}\")\n",
    "    finally:\n",
    "        if conn:\n",
    "            conn.close()\n",
    "\n",
    "if __name__ == \"__main__\":\n",
    "    # Create database and import data\n",
    "    create_database(db_name, csv_file)\n",
    "\n",
    "    # Example query\n",
    "    author_name = input(\"Enter author's name to search for publications: \")\n",
    "    query_by_author(db_name, author_name)"
   ]
  },
  {
   "cell_type": "code",
   "execution_count": null,
   "metadata": {},
   "outputs": [],
   "source": []
  }
 ],
 "metadata": {
  "kernelspec": {
   "display_name": "Python 3",
   "language": "python",
   "name": "python3"
  },
  "language_info": {
   "codemirror_mode": {
    "name": "ipython",
    "version": 3
   },
   "file_extension": ".py",
   "mimetype": "text/x-python",
   "name": "python",
   "nbconvert_exporter": "python",
   "pygments_lexer": "ipython3",
   "version": "3.10.11"
  }
 },
 "nbformat": 4,
 "nbformat_minor": 2
}
