{
 "cells": [
  {
   "cell_type": "markdown",
   "metadata": {},
   "source": [
    "# BARE DEMO"
   ]
  },
  {
   "cell_type": "code",
   "execution_count": null,
   "metadata": {},
   "outputs": [],
   "source": [
    "import pubmed_tool\n",
    "import config_logging as logs\n",
    "\n",
    "logger = logs.get_logger()\n",
    "\n",
    "def demo():\n",
    "    keyword = 'hiv'\n",
    "    start_date = '2020/01/01'\n",
    "    end_date = '2020/08/01'\n",
    "    csv_path = r'demo_data.csv'\n",
    "    any_nm = 'smith'\n",
    "    logo_path = r'https://images.pexels.com/photos/3109167/pexels-photo-3109167.jpeg'\n",
    "    primary_color = 'blue'\n",
    "    secondary_color = 'grey'\n",
    "    accent_color = 'grey'\n",
    "    email = 'morrigan.mahady@uth.tmc.edu'\n",
    "\n",
    "\n",
    "    pubmed_tool.scraper(keyword = keyword, start_date = start_date, end_date = end_date, \n",
    "                        email = email, path = csv_path, \n",
    "                        project_dir = project_dir)\n",
    "    \n",
    "    matches = pubmed_tool.sql_full(csv_path, project_dir, any_nm = any_nm)\n",
    "\n",
    "    pubmed_tool.full_visual(csv_path, out_path = 'demo.html', project_dir = project_dir, \n",
    "                            keyword = keyword, start_date = start_date, end_date = end_date,\n",
    "                            logo_path = logo_path, primary_color = primary_color, \n",
    "                            secondary_color = secondary_color,\n",
    "                            accent_color = accent_color)\n",
    "    \n",
    "demo()"
   ]
  },
  {
   "cell_type": "code",
   "execution_count": 3,
   "metadata": {},
   "outputs": [
    {
     "name": "stdout",
     "output_type": "stream",
     "text": [
      "Collecting pipreqs\n",
      "  Downloading pipreqs-0.4.13-py2.py3-none-any.whl (33 kB)\n",
      "Collecting docopt (from pipreqs)\n",
      "  Downloading docopt-0.6.2.tar.gz (25 kB)\n",
      "  Preparing metadata (setup.py): started\n",
      "  Preparing metadata (setup.py): finished with status 'done'\n",
      "Collecting yarg (from pipreqs)\n",
      "  Downloading yarg-0.1.9-py2.py3-none-any.whl (19 kB)\n",
      "Requirement already satisfied: requests in c:\\users\\morri\\appdata\\local\\packages\\pythonsoftwarefoundation.python.3.10_qbz5n2kfra8p0\\localcache\\local-packages\\python310\\site-packages (from yarg->pipreqs) (2.31.0)\n",
      "Requirement already satisfied: charset-normalizer<4,>=2 in c:\\users\\morri\\appdata\\local\\packages\\pythonsoftwarefoundation.python.3.10_qbz5n2kfra8p0\\localcache\\local-packages\\python310\\site-packages (from requests->yarg->pipreqs) (2.0.12)\n",
      "Requirement already satisfied: idna<4,>=2.5 in c:\\users\\morri\\appdata\\local\\packages\\pythonsoftwarefoundation.python.3.10_qbz5n2kfra8p0\\localcache\\local-packages\\python310\\site-packages (from requests->yarg->pipreqs) (3.3)\n",
      "Requirement already satisfied: urllib3<3,>=1.21.1 in c:\\users\\morri\\appdata\\local\\packages\\pythonsoftwarefoundation.python.3.10_qbz5n2kfra8p0\\localcache\\local-packages\\python310\\site-packages (from requests->yarg->pipreqs) (2.1.0)\n",
      "Requirement already satisfied: certifi>=2017.4.17 in c:\\users\\morri\\appdata\\local\\packages\\pythonsoftwarefoundation.python.3.10_qbz5n2kfra8p0\\localcache\\local-packages\\python310\\site-packages (from requests->yarg->pipreqs) (2022.6.15)\n",
      "Building wheels for collected packages: docopt\n",
      "  Building wheel for docopt (setup.py): started\n",
      "  Building wheel for docopt (setup.py): finished with status 'done'\n",
      "  Created wheel for docopt: filename=docopt-0.6.2-py2.py3-none-any.whl size=13706 sha256=15c89ecc0f96c4cffb1c377b758e96c9651a80f952ffa7c5a5b20cbae9555cf8\n",
      "  Stored in directory: c:\\users\\morri\\appdata\\local\\pip\\cache\\wheels\\fc\\ab\\d4\\5da2067ac95b36618c629a5f93f809425700506f72c9732fac\n",
      "Successfully built docopt\n",
      "Installing collected packages: docopt, yarg, pipreqs\n",
      "Successfully installed docopt-0.6.2 pipreqs-0.4.13 yarg-0.1.9\n",
      "Note: you may need to restart the kernel to use updated packages.\n"
     ]
    }
   ],
   "source": [
    "pip install pipreqs\n"
   ]
  },
  {
   "cell_type": "code",
   "execution_count": null,
   "metadata": {},
   "outputs": [],
   "source": [
    "import sys\n",
    "\n",
    "print(f\"Python Version: {sys.version[0:8].strip()}\")\n",
    "for name, module in sorted(sys.modules.items()): \n",
    "  if hasattr(module, '__version__'): \n",
    "    print (f\"{name} Version: {module.__version__}\")"
   ]
  }
 ],
 "metadata": {
  "kernelspec": {
   "display_name": "Python 3",
   "language": "python",
   "name": "python3"
  },
  "language_info": {
   "codemirror_mode": {
    "name": "ipython",
    "version": 3
   },
   "file_extension": ".py",
   "mimetype": "text/x-python",
   "name": "python",
   "nbconvert_exporter": "python",
   "pygments_lexer": "ipython3",
   "version": "3.10.11"
  }
 },
 "nbformat": 4,
 "nbformat_minor": 2
}
